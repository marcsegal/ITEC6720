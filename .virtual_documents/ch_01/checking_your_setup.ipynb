


from check_environment import run_checks
run_checks()



