


from visual_aids import stats_viz





ax = stats_viz.different_modal_plots()





ax = stats_viz.effect_of_std_dev()





ax = stats_viz.example_boxplot()





ax = stats_viz.example_histogram()





ax = stats_viz.example_kde()





ax = stats_viz.hist_and_kde()





ax = stats_viz.skew_examples()





ax = stats_viz.cdf_example()





ax = stats_viz.common_dists()





ax = stats_viz.correlation_coefficient_examples()





ax = stats_viz.non_linear_relationships()





ax = stats_viz.anscombes_quartet()





ax = stats_viz.datasaurus_dozen()





ax = stats_viz.example_scatter_plot()





ax = stats_viz.example_regression()





ax = stats_viz.time_series_decomposition_example()



