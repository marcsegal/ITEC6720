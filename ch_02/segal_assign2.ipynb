{
 "cells": [
  {
   "cell_type": "code",
   "execution_count": null,
   "id": "576647af-278f-4e41-8ce8-70baf30c9293",
   "metadata": {},
   "outputs": [],
   "source": [
    "#import packages to perform operations on DataFrame"
   ]
  },
  {
   "cell_type": "code",
   "execution_count": 6,
   "id": "60d99342-9c08-4d86-96c0-2de79dd4aceb",
   "metadata": {},
   "outputs": [],
   "source": [
    "import datetime as dt\n",
    "import numpy as np\n",
    "import pandas as pd"
   ]
  },
  {
   "cell_type": "code",
   "execution_count": 7,
   "id": "e9dee3e3-e285-4c42-a28d-677d6ca56586",
   "metadata": {},
   "outputs": [],
   "source": [
    "#create DataFrame called pd that imports data from file"
   ]
  },
  {
   "cell_type": "code",
   "execution_count": 8,
   "id": "d5919032-86d4-4f70-b1fa-a152ed149af4",
   "metadata": {},
   "outputs": [],
   "source": [
    "df = pd.read_csv('data/parsed.csv')"
   ]
  },
  {
   "cell_type": "code",
   "execution_count": 9,
   "id": "d2668114-b253-4f00-95f1-6e35e9467d5a",
   "metadata": {},
   "outputs": [],
   "source": [
    "#find the 95th percentile of earthquake magnitude in Japan using the mb magnitude type"
   ]
  },
  {
   "cell_type": "code",
   "execution_count": 10,
   "id": "eb102aaa-313b-4f0a-9160-4eb2469ead06",
   "metadata": {},
   "outputs": [],
   "source": [
    "#filter for earthquakes in Japan with mb magnitude type"
   ]
  },
  {
   "cell_type": "code",
   "execution_count": 12,
   "id": "8272d08a-c86c-4ec2-87af-f9f49935b1cb",
   "metadata": {},
   "outputs": [],
   "source": [
    "japan_mb = df[(df['place'].str.contains(\"Japan\")) & (df['magType'] == \"mb\")]"
   ]
  },
  {
   "cell_type": "code",
   "execution_count": null,
   "id": "465d651d-369a-40da-8c9c-4690f436fa5d",
   "metadata": {},
   "outputs": [],
   "source": [
    "#calculate the 95th percentile of earthquake magnitude"
   ]
  },
  {
   "cell_type": "code",
   "execution_count": 13,
   "id": "58fd599a-c3b7-4a01-8d26-7e4edd2de2ec",
   "metadata": {},
   "outputs": [
    {
     "name": "stdout",
     "output_type": "stream",
     "text": [
      "4.9\n"
     ]
    }
   ],
   "source": [
    "japan_mb_95th_percentile = japan_mb['mag'].quantile(0.95)\n",
    "print(japan_mb_95th_percentile)"
   ]
  },
  {
   "cell_type": "code",
   "execution_count": null,
   "id": "d76ec779-2da5-4857-89c2-764d1a862fba",
   "metadata": {},
   "outputs": [],
   "source": [
    "# Filter for earthquakes in Indonesia"
   ]
  },
  {
   "cell_type": "code",
   "execution_count": 14,
   "id": "d5752c3f-8909-495a-ab0b-b8da76b8f848",
   "metadata": {},
   "outputs": [],
   "source": [
    "indonesia_eq = df[df['place'].str.contains('Indonesia')]"
   ]
  },
  {
   "cell_type": "code",
   "execution_count": null,
   "id": "d3a47f0e-9be9-4231-8a0d-a10f154c0a0d",
   "metadata": {},
   "outputs": [],
   "source": [
    "# Calculate the percentage of earthquakes with tsunamis"
   ]
  },
  {
   "cell_type": "code",
   "execution_count": 15,
   "id": "11259586-cf91-47dc-8259-8d30efbc3a44",
   "metadata": {},
   "outputs": [
    {
     "name": "stdout",
     "output_type": "stream",
     "text": [
      "23.12925170068027\n"
     ]
    }
   ],
   "source": [
    "tsunami_percentage = (indonesia_eq['tsunami'].sum() / len(indonesia_eq)) * 100\n",
    "print(tsunami_percentage)"
   ]
  },
  {
   "cell_type": "code",
   "execution_count": null,
   "id": "048a516c-d5c0-41c1-8b6b-cf57664d8266",
   "metadata": {},
   "outputs": [],
   "source": [
    "# Filter for earthquakes in Nevada"
   ]
  },
  {
   "cell_type": "code",
   "execution_count": 16,
   "id": "7d9d78e9-ed5d-426c-bdf4-12c4bdf411a3",
   "metadata": {},
   "outputs": [],
   "source": [
    "nevada_eq = df[df['place'].str.contains('Nevada')]"
   ]
  },
  {
   "cell_type": "code",
   "execution_count": null,
   "id": "1fc4795d-942b-4812-9cbe-a279d3939d02",
   "metadata": {},
   "outputs": [],
   "source": [
    "# Calculate summary statistics"
   ]
  },
  {
   "cell_type": "code",
   "execution_count": 17,
   "id": "1493b2a2-4144-4f39-9ffb-d2ab5946284f",
   "metadata": {},
   "outputs": [
    {
     "name": "stdout",
     "output_type": "stream",
     "text": [
      "             cdi        dmin       felt         gap         mag   mmi  \\\n",
      "count  15.000000  677.000000  15.000000  677.000000  677.000000  1.00   \n",
      "mean    2.440000    0.166982   2.400000  154.029527    0.491728  2.84   \n",
      "std     0.501142    0.166400   4.626013   68.769713    0.689560   NaN   \n",
      "min     2.000000    0.001000   1.000000   29.140000   -0.500000  2.84   \n",
      "25%     2.000000    0.054000   1.000000   97.670000   -0.100000  2.84   \n",
      "50%     2.200000    0.113000   1.000000  149.550000    0.400000  2.84   \n",
      "75%     2.900000    0.234000   1.000000  200.470000    0.900000  2.84   \n",
      "max     3.300000    1.414000  19.000000  355.910000    2.900000  2.84   \n",
      "\n",
      "              nst         rms         sig          time  tsunami     tz  \\\n",
      "count  677.000000  677.000000  677.000000  6.770000e+02    677.0  677.0   \n",
      "mean    12.608567    0.151909   10.688331  1.538314e+12      0.0 -480.0   \n",
      "std      9.890620    0.084742   19.252727  5.954070e+08      0.0    0.0   \n",
      "min      3.000000    0.000500    0.000000  1.537247e+12      0.0 -480.0   \n",
      "25%      6.000000    0.106900    0.000000  1.537854e+12      0.0 -480.0   \n",
      "50%      9.000000    0.146300    2.000000  1.538280e+12      0.0 -480.0   \n",
      "75%     16.000000    0.186700   12.000000  1.538821e+12      0.0 -480.0   \n",
      "max     61.000000    0.863400  129.000000  1.539461e+12      0.0 -480.0   \n",
      "\n",
      "            updated  \n",
      "count  6.770000e+02  \n",
      "mean   1.538402e+12  \n",
      "std    6.000267e+08  \n",
      "min    1.537307e+12  \n",
      "25%    1.537928e+12  \n",
      "50%    1.538428e+12  \n",
      "75%    1.538878e+12  \n",
      "max    1.539483e+12  \n"
     ]
    }
   ],
   "source": [
    "nevada_summary = nevada_eq.describe()\n",
    "print(nevada_summary)"
   ]
  },
  {
   "cell_type": "code",
   "execution_count": null,
   "id": "aff9fda0-21d1-4f8f-81c8-a980afb71bcc",
   "metadata": {},
   "outputs": [],
   "source": [
    "# List of locations on the Ring of Fire"
   ]
  },
  {
   "cell_type": "code",
   "execution_count": 18,
   "id": "5e96a2e8-71a1-48ca-a019-01def0c76ec0",
   "metadata": {},
   "outputs": [],
   "source": [
    "ring_of_fire_locations = [\n",
    "    'Alaska', 'Antarctic', 'Bolivia', 'California', 'Canada', 'Chile', 'Costa Rica', \n",
    "    'Ecuador', 'Fiji', 'Guatemala', 'Indonesia', 'Japan', 'Kermadec Islands', \n",
    "    'Mexico', 'New Zealand', 'Peru', 'Philippines', 'Russia', 'Taiwan', 'Tonga', 'Washington'\n",
    "]"
   ]
  },
  {
   "cell_type": "code",
   "execution_count": null,
   "id": "b8b60dfa-b7c4-4a43-973c-ad54444bda09",
   "metadata": {},
   "outputs": [],
   "source": [
    "# Create a new column indicating whether the location is on the Ring of Fire"
   ]
  },
  {
   "cell_type": "code",
   "execution_count": 19,
   "id": "6b7c7dd1-cbac-4a14-8258-5baca23871cd",
   "metadata": {},
   "outputs": [
    {
     "name": "stdout",
     "output_type": "stream",
     "text": [
      "                   place  on_Ring_of_Fire\n",
      "0  9km NE of Aguanga, CA            False\n",
      "1  9km NE of Aguanga, CA            False\n",
      "2  8km NE of Aguanga, CA            False\n",
      "3  9km NE of Aguanga, CA            False\n",
      "4  10km NW of Avenal, CA            False\n"
     ]
    }
   ],
   "source": [
    "df['on_Ring_of_Fire'] = df['place'].apply(lambda x: any(location in x for location in ring_of_fire_locations))\n",
    "print(df[['place', 'on_Ring_of_Fire']].head())"
   ]
  },
  {
   "cell_type": "code",
   "execution_count": null,
   "id": "21abdd91-7d4e-45d7-b1ca-5f288e6d37f5",
   "metadata": {},
   "outputs": [],
   "source": [
    "# Count the number of earthquakes on the Ring of Fire and outside of it"
   ]
  },
  {
   "cell_type": "code",
   "execution_count": 20,
   "id": "911d90de-a4d0-47dd-a4f6-dcad92d4725c",
   "metadata": {},
   "outputs": [],
   "source": [
    "ring_of_fire_count = df['on_Ring_of_Fire'].sum()\n",
    "outside_ring_of_fire_count = len(df) - ring_of_fire_count"
   ]
  },
  {
   "cell_type": "code",
   "execution_count": 21,
   "id": "c6b2e97f-3ca3-4e82-87f2-4deb0937b7ea",
   "metadata": {},
   "outputs": [
    {
     "name": "stdout",
     "output_type": "stream",
     "text": [
      "On Ring of Fire: 4427\n",
      "Outside Ring of Fire: 4905\n"
     ]
    }
   ],
   "source": [
    "print(f\"On Ring of Fire: {ring_of_fire_count}\")\n",
    "print(f\"Outside Ring of Fire: {outside_ring_of_fire_count}\")"
   ]
  },
  {
   "cell_type": "code",
   "execution_count": null,
   "id": "8f7e374a-d3c1-40fa-9228-20fddb25e609",
   "metadata": {},
   "outputs": [],
   "source": [
    "# Calculate the number of tsunamis that occurred in Ring of Fire locations"
   ]
  },
  {
   "cell_type": "code",
   "execution_count": 22,
   "id": "6d21d3cc-8eaf-43e4-a5af-4b1f94d87daf",
   "metadata": {},
   "outputs": [
    {
     "name": "stdout",
     "output_type": "stream",
     "text": [
      "43\n"
     ]
    }
   ],
   "source": [
    "tsunami_count_ring_of_fire = df[df['on_Ring_of_Fire']]['tsunami'].sum()\n",
    "print(tsunami_count_ring_of_fire)"
   ]
  },
  {
   "cell_type": "code",
   "execution_count": null,
   "id": "9c6b380b-a78c-430a-b260-e9cdb642966e",
   "metadata": {},
   "outputs": [],
   "source": []
  }
 ],
 "metadata": {
  "kernelspec": {
   "display_name": "Python 3 (ipykernel)",
   "language": "python",
   "name": "python3"
  },
  "language_info": {
   "codemirror_mode": {
    "name": "ipython",
    "version": 3
   },
   "file_extension": ".py",
   "mimetype": "text/x-python",
   "name": "python",
   "nbconvert_exporter": "python",
   "pygments_lexer": "ipython3",
   "version": "3.8.19"
  }
 },
 "nbformat": 4,
 "nbformat_minor": 5
}
