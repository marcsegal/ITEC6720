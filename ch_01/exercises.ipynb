{
 "cells": [
  {
   "cell_type": "markdown",
   "metadata": {},
   "source": [
    "# Coding exercises\n",
    "Exercises 1-3 are thought exercises that don't require coding. If you need a Python crash-course/refresher, work through the [`python_101.ipynb`](./python_101.ipynb) notebook in chapter 1.\n",
    "\n",
    "## Exercise 4: Generate the data by running this cell\n",
    "This will give you a list of numbers to work with in the remaining exercises."
   ]
  },
  {
   "cell_type": "code",
   "execution_count": 21,
   "metadata": {},
   "outputs": [
    {
     "data": {
      "text/plain": [
       "[844000.0,\n",
       " 758000.0,\n",
       " 421000.0,\n",
       " 259000.0,\n",
       " 511000.0,\n",
       " 405000.0,\n",
       " 784000.0,\n",
       " 303000.0,\n",
       " 477000.0,\n",
       " 583000.0,\n",
       " 908000.0,\n",
       " 505000.0,\n",
       " 282000.0,\n",
       " 756000.0,\n",
       " 618000.0,\n",
       " 251000.0,\n",
       " 910000.0,\n",
       " 983000.0,\n",
       " 810000.0,\n",
       " 902000.0,\n",
       " 310000.0,\n",
       " 730000.0,\n",
       " 899000.0,\n",
       " 684000.0,\n",
       " 472000.0,\n",
       " 101000.0,\n",
       " 434000.0,\n",
       " 611000.0,\n",
       " 913000.0,\n",
       " 967000.0,\n",
       " 477000.0,\n",
       " 865000.0,\n",
       " 260000.0,\n",
       " 805000.0,\n",
       " 549000.0,\n",
       " 14000.0,\n",
       " 720000.0,\n",
       " 399000.0,\n",
       " 825000.0,\n",
       " 668000.0,\n",
       " 1000.0,\n",
       " 494000.0,\n",
       " 868000.0,\n",
       " 244000.0,\n",
       " 325000.0,\n",
       " 870000.0,\n",
       " 191000.0,\n",
       " 568000.0,\n",
       " 239000.0,\n",
       " 968000.0,\n",
       " 803000.0,\n",
       " 448000.0,\n",
       " 80000.0,\n",
       " 320000.0,\n",
       " 508000.0,\n",
       " 933000.0,\n",
       " 109000.0,\n",
       " 551000.0,\n",
       " 707000.0,\n",
       " 547000.0,\n",
       " 814000.0,\n",
       " 540000.0,\n",
       " 964000.0,\n",
       " 603000.0,\n",
       " 588000.0,\n",
       " 445000.0,\n",
       " 596000.0,\n",
       " 385000.0,\n",
       " 576000.0,\n",
       " 290000.0,\n",
       " 189000.0,\n",
       " 187000.0,\n",
       " 613000.0,\n",
       " 657000.0,\n",
       " 477000.0,\n",
       " 90000.0,\n",
       " 758000.0,\n",
       " 877000.0,\n",
       " 923000.0,\n",
       " 842000.0,\n",
       " 898000.0,\n",
       " 923000.0,\n",
       " 541000.0,\n",
       " 391000.0,\n",
       " 705000.0,\n",
       " 276000.0,\n",
       " 812000.0,\n",
       " 849000.0,\n",
       " 895000.0,\n",
       " 590000.0,\n",
       " 950000.0,\n",
       " 580000.0,\n",
       " 451000.0,\n",
       " 660000.0,\n",
       " 996000.0,\n",
       " 917000.0,\n",
       " 793000.0,\n",
       " 82000.0,\n",
       " 613000.0,\n",
       " 486000.0]"
      ]
     },
     "execution_count": 21,
     "metadata": {},
     "output_type": "execute_result"
    }
   ],
   "source": [
    "import random\n",
    "\n",
    "random.seed(0)\n",
    "salaries = [round(random.random()*1000000, -3) for _ in range(100)]\n",
    "\n",
    "salaries\n"
   ]
  },
  {
   "cell_type": "markdown",
   "metadata": {},
   "source": [
    "## Exercise 5: Calculating statistics and verifying\n",
    "### mean"
   ]
  },
  {
   "cell_type": "code",
   "execution_count": 73,
   "metadata": {},
   "outputs": [
    {
     "name": "stdout",
     "output_type": "stream",
     "text": [
      "585690.0\n"
     ]
    },
    {
     "ename": "TypeError",
     "evalue": "'list' object is not callable",
     "output_type": "error",
     "traceback": [
      "\u001b[1;31m---------------------------------------------------------------------------\u001b[0m",
      "\u001b[1;31mTypeError\u001b[0m                                 Traceback (most recent call last)",
      "Cell \u001b[1;32mIn[73], line 9\u001b[0m\n\u001b[0;32m      5\u001b[0m \u001b[38;5;28mprint\u001b[39m(mean2)\n\u001b[0;32m      7\u001b[0m \u001b[38;5;28;01mimport\u001b[39;00m \u001b[38;5;21;01mmath\u001b[39;00m\n\u001b[1;32m----> 9\u001b[0m su1 \u001b[38;5;241m=\u001b[39m \u001b[38;5;28;43msum\u001b[39;49m\u001b[43m(\u001b[49m\u001b[43msalaries\u001b[49m\u001b[43m)\u001b[49m\n\u001b[0;32m     11\u001b[0m \u001b[38;5;28mprint\u001b[39m(su1)\n",
      "\u001b[1;31mTypeError\u001b[0m: 'list' object is not callable"
     ]
    }
   ],
   "source": [
    "from statistics import mean\n",
    "\n",
    "mean2 = mean(salaries)\n",
    "\n",
    "print(mean2)\n",
    "\n",
    "import math\n",
    "\n",
    "su1 = sum(salaries)\n",
    "\n",
    "print(su1)"
   ]
  },
  {
   "cell_type": "markdown",
   "metadata": {},
   "source": [
    "### median"
   ]
  },
  {
   "cell_type": "code",
   "execution_count": 25,
   "metadata": {
    "tags": []
   },
   "outputs": [
    {
     "name": "stdout",
     "output_type": "stream",
     "text": [
      "589000.0\n"
     ]
    },
    {
     "data": {
      "text/plain": [
       "True"
      ]
     },
     "execution_count": 25,
     "metadata": {},
     "output_type": "execute_result"
    }
   ],
   "source": [
    "import math\n",
    "from statistics import median\n",
    "\n",
    "med = median(salaries)\n",
    "\n",
    "salaries.sort()\n",
    "\n",
    "l = len(salaries)\n",
    "\n",
    "mid = salaries[l // 2]\n",
    "mid2 = salaries[l // 2-1]\n",
    "median = (mid + mid2)/2\n",
    "\n",
    "print(median)\n",
    "med == median"
   ]
  },
  {
   "cell_type": "markdown",
   "metadata": {},
   "source": [
    "### mode"
   ]
  },
  {
   "cell_type": "code",
   "execution_count": 33,
   "metadata": {},
   "outputs": [
    {
     "name": "stdout",
     "output_type": "stream",
     "text": [
      "477000.0\n"
     ]
    },
    {
     "data": {
      "text/plain": [
       "True"
      ]
     },
     "execution_count": 33,
     "metadata": {},
     "output_type": "execute_result"
    }
   ],
   "source": [
    "from statistics import mode\n",
    "mode1 = mode(salaries)\n",
    "\n",
    "from collections import Counter\n",
    "c = Counter(salaries).most_common(1)[0][0]\n",
    "\n",
    "print(c)\n",
    "c == mode1\n"
   ]
  },
  {
   "cell_type": "markdown",
   "metadata": {},
   "source": [
    "### sample variance\n",
    "Remember to use Bessel's correction."
   ]
  },
  {
   "cell_type": "code",
   "execution_count": 38,
   "metadata": {},
   "outputs": [
    {
     "name": "stdout",
     "output_type": "stream",
     "text": [
      "70664054444.44444\n"
     ]
    },
    {
     "data": {
      "text/plain": [
       "True"
      ]
     },
     "execution_count": 38,
     "metadata": {},
     "output_type": "execute_result"
    }
   ],
   "source": [
    "import math\n",
    "from statistics import mean, variance\n",
    "\n",
    "svar2 = variance(salaries)\n",
    "\n",
    "n = len(salaries)\n",
    "\n",
    "mean1 = mean(salaries)\n",
    "\n",
    "svar = sum([(x - mean1)**2 for x in salaries]) / (n-1)\n",
    "\n",
    "print(svar)\n",
    "svar == svar2\n",
    "\n"
   ]
  },
  {
   "cell_type": "markdown",
   "metadata": {},
   "source": [
    "### sample standard deviation\n",
    "Remember to use Bessel's correction."
   ]
  },
  {
   "cell_type": "code",
   "execution_count": 41,
   "metadata": {},
   "outputs": [
    {
     "name": "stdout",
     "output_type": "stream",
     "text": [
      "265827.11382484\n"
     ]
    },
    {
     "data": {
      "text/plain": [
       "True"
      ]
     },
     "execution_count": 41,
     "metadata": {},
     "output_type": "execute_result"
    }
   ],
   "source": [
    "import math\n",
    "from statistics import stdev\n",
    "\n",
    "sstdv = math.sqrt(svar)\n",
    "\n",
    "sstdv = math.sqrt(svar)\n",
    "\n",
    "print(sstdv)\n",
    "sstdv == stdev(salaries)"
   ]
  },
  {
   "cell_type": "markdown",
   "metadata": {},
   "source": [
    "## Exercise 6: Calculating more statistics\n",
    "### range"
   ]
  },
  {
   "cell_type": "code",
   "execution_count": 42,
   "metadata": {},
   "outputs": [
    {
     "name": "stdout",
     "output_type": "stream",
     "text": [
      "995000.0\n"
     ]
    }
   ],
   "source": [
    "range = max(salaries) -  min(salaries)\n",
    "\n",
    "print(range)"
   ]
  },
  {
   "cell_type": "markdown",
   "metadata": {},
   "source": [
    "### coefficient of variation\n",
    "Make sure to use the sample standard deviation."
   ]
  },
  {
   "cell_type": "code",
   "execution_count": 43,
   "metadata": {},
   "outputs": [
    {
     "name": "stdout",
     "output_type": "stream",
     "text": [
      "0.45386998894439035\n"
     ]
    }
   ],
   "source": [
    "cv1 = sstdv / mean1\n",
    "print(cv1)"
   ]
  },
  {
   "cell_type": "markdown",
   "metadata": {
    "tags": []
   },
   "source": [
    "### interquartile range"
   ]
  },
  {
   "cell_type": "code",
   "execution_count": 46,
   "metadata": {},
   "outputs": [
    {
     "data": {
      "text/plain": [
       "True"
      ]
     },
     "execution_count": 46,
     "metadata": {},
     "output_type": "execute_result"
    }
   ],
   "source": [
    "import math\n",
    "\n",
    "def quartile (x, pct):\n",
    "    x.sort()\n",
    "    index = (len(x) + 1) * pct -1\n",
    "    if len(x) % 2:\n",
    "        return x[int(index)]\n",
    "    else:\n",
    "        return (x[math.floor(index)] + x[math.ceil(index)]) / 2\n",
    "    \n",
    "sum([x < quartile(salaries, 0.25) for x in salaries]) / len(salaries) == .25\n",
    "\n",
    "sum([x < quartile(salaries, 0.75) for x in salaries]) / len(salaries) == .75"
   ]
  },
  {
   "cell_type": "code",
   "execution_count": 47,
   "metadata": {},
   "outputs": [
    {
     "data": {
      "text/plain": [
       "True"
      ]
     },
     "execution_count": 47,
     "metadata": {},
     "output_type": "execute_result"
    }
   ],
   "source": [
    "sum([x < quartile(salaries, 0.75) for x in salaries]) / len(salaries) == .75"
   ]
  },
  {
   "cell_type": "code",
   "execution_count": 50,
   "metadata": {},
   "outputs": [
    {
     "name": "stdout",
     "output_type": "stream",
     "text": [
      "417500.0\n",
      "819500.0\n",
      "402000.0\n"
     ]
    }
   ],
   "source": [
    "q3 = quartile(salaries , 0.75)\n",
    "q1 = quartile(salaries , 0.25)\n",
    "\n",
    "iqr = q3 - q1\n",
    "\n",
    "print(iqr)\n",
    "\n",
    "print(q3)\n",
    "print(q1)"
   ]
  },
  {
   "cell_type": "markdown",
   "metadata": {},
   "source": [
    "### quartile coefficent of dispersion"
   ]
  },
  {
   "cell_type": "code",
   "execution_count": 52,
   "metadata": {},
   "outputs": [
    {
     "name": "stdout",
     "output_type": "stream",
     "text": [
      "0.3417928776094965\n"
     ]
    }
   ],
   "source": [
    "qcd = iqr / (q1 + q3)\n",
    "\n",
    "print(qcd)"
   ]
  },
  {
   "cell_type": "markdown",
   "metadata": {},
   "source": [
    "## Exercise 7: Scaling data\n",
    "### min-max scaling"
   ]
  },
  {
   "cell_type": "code",
   "execution_count": 53,
   "metadata": {},
   "outputs": [
    {
     "name": "stdout",
     "output_type": "stream",
     "text": [
      "[0.0, 0.01306532663316583, 0.07939698492462312, 0.0814070351758794, 0.08944723618090453, 0.10050251256281408, 0.10854271356783919, 0.18693467336683417, 0.18894472361809045, 0.19095477386934673, 0.23919597989949748, 0.2442211055276382, 0.25125628140703515, 0.2592964824120603, 0.26030150753768844, 0.27638190954773867, 0.28241206030150756, 0.2904522613065327, 0.3035175879396985, 0.31055276381909547, 0.32060301507537686, 0.3256281407035176, 0.385929648241206, 0.39195979899497485, 0.4, 0.40603015075376886, 0.4221105527638191, 0.43517587939698493, 0.4462311557788945, 0.4492462311557789, 0.45226130653266333, 0.4733668341708543, 0.47839195979899496, 0.47839195979899496, 0.47839195979899496, 0.48743718592964824, 0.49547738693467336, 0.5065326633165829, 0.5095477386934674, 0.5125628140703518, 0.5417085427135678, 0.542713567839196, 0.5487437185929648, 0.5507537688442211, 0.5527638190954773, 0.5698492462311557, 0.5778894472361809, 0.5819095477386935, 0.5849246231155779, 0.5899497487437186, 0.5919597989949749, 0.5979899497487438, 0.6050251256281407, 0.6130653266331658, 0.6150753768844222, 0.6150753768844222, 0.6201005025125628, 0.6592964824120603, 0.6623115577889447, 0.6703517587939698, 0.6864321608040201, 0.7075376884422111, 0.7095477386934673, 0.7226130653266332, 0.7326633165829146, 0.7587939698492462, 0.7608040201005025, 0.7608040201005025, 0.7869346733668342, 0.7959798994974875, 0.8060301507537688, 0.8080402010050252, 0.8130653266331658, 0.8150753768844221, 0.8170854271356784, 0.828140703517588, 0.8452261306532663, 0.8472361809045226, 0.8522613065326633, 0.8683417085427135, 0.871356783919598, 0.8733668341708543, 0.8804020100502512, 0.8984924623115578, 0.9015075376884422, 0.9025125628140703, 0.9055276381909547, 0.9115577889447236, 0.91356783919598, 0.9165829145728643, 0.9206030150753769, 0.9266331658291457, 0.9266331658291457, 0.9366834170854271, 0.9537688442211055, 0.9678391959798995, 0.9708542713567839, 0.9718592964824121, 0.9869346733668342, 1.0]\n"
     ]
    }
   ],
   "source": [
    "#range1 is range from earlier\n",
    "\n",
    "minsal = min(salaries)\n",
    "maxsal = max(salaries)\n",
    "\n",
    "r = maxsal - minsal\n",
    "\n",
    "scaled = [(x - minsal) / r for x in salaries]\n",
    "print(scaled)"
   ]
  },
  {
   "cell_type": "markdown",
   "metadata": {},
   "source": [
    "### standardizing"
   ]
  },
  {
   "cell_type": "code",
   "execution_count": 54,
   "metadata": {},
   "outputs": [
    {
     "name": "stdout",
     "output_type": "stream",
     "text": [
      "[-2.199512275430514, -2.150608309943509, -1.9023266390094862, -1.8948029520114855, -1.8647082040194827, -1.8233279255304788, -1.7932331775384762, -1.4998093846164489, -1.4922856976184482, -1.4847620106204475, -1.304193522668431, -1.285384305173429, -1.2590514006804265, -1.228956652688424, -1.2251948091894236, -1.165005313205418, -1.142434252211416, -1.112339504219413, -1.0634355387324086, -1.037102634239406, -0.9994841992494026, -0.9806749817544008, -0.7549643718143799, -0.7323933108203778, -0.7022985628283751, -0.6797275018343729, -0.6195380058503674, -0.5706340403633628, -0.529253761874359, -0.517968231377358, -0.5066827008803569, -0.4276839874013496, -0.40887476990634786, -0.40887476990634786, -0.40887476990634786, -0.37501817841534474, -0.34492343042334195, -0.3035431519343381, -0.2922576214373371, -0.28097209094033604, -0.17187862946932592, -0.16811678597032556, -0.14554572497632348, -0.1380220379783228, -0.1304983509803221, -0.06654701149731616, -0.03645226350531338, -0.02140488950931198, -0.010119359012310937, 0.008689858482690806, 0.016213545480691503, 0.038784606474693596, 0.06511751096769604, 0.09521225895969881, 0.10273594595769951, 0.10273594595769951, 0.12154516345270126, 0.26825705991371485, 0.2795425904107159, 0.3096373384027187, 0.36982683438672426, 0.4488255478657316, 0.4563492348637323, 0.5052532003507368, 0.5428716353407403, 0.6406795663147493, 0.6482032533127501, 0.6482032533127501, 0.7460111842867592, 0.7798677757777622, 0.8174862107677657, 0.8250098977657664, 0.8438191152607681, 0.8513428022587689, 0.8588664892567696, 0.9002467677457734, 0.9641981072287793, 0.9717217942267801, 0.9905310117217818, 1.0507205077057873, 1.0620060382027885, 1.0695297252007891, 1.0958626296937914, 1.1635758126757978, 1.1748613431727988, 1.178623186671799, 1.1899087171688003, 1.2124797781628023, 1.220003465160803, 1.2312889956578041, 1.2463363696538055, 1.2689074306478076, 1.2689074306478076, 1.3065258656378111, 1.370477205120817, 1.4231430141068218, 1.434428544603823, 1.4381903881028233, 1.4946180405878284, 1.543522006074833]\n"
     ]
    }
   ],
   "source": [
    "from statistics import mean, stdev\n",
    "\n",
    "mean_sal = mean(salaries)\n",
    "std_sal = stdev(salaries)\n",
    "\n",
    "standardized = [(x - mean_sal) / std_sal for x in salaries]\n",
    "\n",
    "print(standardized)"
   ]
  },
  {
   "cell_type": "markdown",
   "metadata": {},
   "source": [
    "## Exercise 8: Calculating covariance and correlation\n",
    "### covariance"
   ]
  },
  {
   "cell_type": "code",
   "execution_count": 65,
   "metadata": {},
   "outputs": [
    {
     "data": {
      "text/plain": [
       "0.26449129918250414"
      ]
     },
     "execution_count": 65,
     "metadata": {},
     "output_type": "execute_result"
    }
   ],
   "source": [
    "from statistics import mean\n",
    "\n",
    "n = len(standardized)\n",
    "\n",
    "sum1 =  [(x - mean(standardized)) * (y - mean(scaled)) for x, y  in zip(standardized, scaled)]\n",
    "\n",
    "cov = mean(sum1)\n",
    "\n",
    "cov"
   ]
  },
  {
   "cell_type": "markdown",
   "metadata": {},
   "source": [
    "### Pearson correlation coefficient ($\\rho$)"
   ]
  },
  {
   "cell_type": "code",
   "execution_count": 56,
   "metadata": {},
   "outputs": [
    {
     "name": "stdout",
     "output_type": "stream",
     "text": [
      "0.9900000000000001\n"
     ]
    }
   ],
   "source": [
    "from statistics import stdev\n",
    "\n",
    "p = cov / (stdev(standardized) * stdev(scaled))\n",
    "\n",
    "print(p)"
   ]
  },
  {
   "cell_type": "markdown",
   "metadata": {},
   "source": [
    "<hr>\n",
    "<div style=\"overflow: hidden; margin-bottom: 10px;\">\n",
    "    <div style=\"float: left;\">\n",
    "        <a href=\"./python_101.ipynb\">\n",
    "            <button>Python 101</button>\n",
    "        </a>\n",
    "    </div>\n",
    "    <div style=\"float: right;\">\n",
    "        <a href=\"../../solutions/ch_01/solutions.ipynb\">\n",
    "            <button>Solutions</button>\n",
    "        </a>\n",
    "        <a href=\"../ch_02/1-pandas_data_structures.ipynb\">\n",
    "            <button>Chapter 2 &#8594;</button>\n",
    "        </a>\n",
    "    </div>\n",
    "</div>\n",
    "<hr>"
   ]
  }
 ],
 "metadata": {
  "kernelspec": {
   "display_name": "Python 3 (ipykernel)",
   "language": "python",
   "name": "python3"
  },
  "language_info": {
   "codemirror_mode": {
    "name": "ipython",
    "version": 3
   },
   "file_extension": ".py",
   "mimetype": "text/x-python",
   "name": "python",
   "nbconvert_exporter": "python",
   "pygments_lexer": "ipython3",
   "version": "3.8.19"
  }
 },
 "nbformat": 4,
 "nbformat_minor": 4
}
